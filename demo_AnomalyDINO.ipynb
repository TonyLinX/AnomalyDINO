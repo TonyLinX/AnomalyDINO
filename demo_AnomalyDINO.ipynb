{
 "cells": [
  {
   "cell_type": "code",
   "execution_count": null,
   "metadata": {},
   "outputs": [],
   "source": [
    "# necessary imports\n",
    "import matplotlib.pyplot as plt\n",
    "import cv2\n",
    "import faiss\n",
    "import numpy as np\n",
    "from scipy.ndimage import gaussian_filter\n",
    "\n",
    "from src.detection import augment_image\n",
    "from src.utils import resize_mask_img, get_dataset_info\n",
    "from src.dino import DINOv2\n",
    "\n",
    "data_root = \"data\"\n",
    "mvtec_path = f\"{data_root}/mvtec_anomaly_detection\"\n",
    "objects, object_anomalies, masking_default, rotation_default = get_dataset_info(\"MVTec\", \"informed\")"
   ]
  },
  {
   "cell_type": "code",
   "execution_count": null,
   "metadata": {},
   "outputs": [],
   "source": [
    "def score_single_image(image_test, image_ref_list, dm, masking = True, rotation = True):\n",
    "    features_ref = []\n",
    "\n",
    "    # print(f\"Extracting the memory bank from {len(image_ref_list)} image(s)...\", end=\" \")\n",
    "    for image_ref in image_ref_list:\n",
    "        if rotation:\n",
    "            img_augmented = augment_image(image_ref)\n",
    "        else:\n",
    "            img_augmented = [image_ref]\n",
    "\n",
    "        for i in range(len(img_augmented)):\n",
    "            image_ref = img_augmented[i]\n",
    "            image_ref_tensor, grid_size1, _ = dm.prepare_image(image_ref)\n",
    "            features_ref_i = dm.extract_features(image_ref_tensor)\n",
    "            mask_ref = dm.compute_background_mask_from_image(image_ref, threshold=10, masking_type=masking)\n",
    "            features_ref.append(features_ref_i[mask_ref])\n",
    "\n",
    "    # print(f\"Setting up KNN with reference samples...\", end=\" \") \n",
    "    features_ref = np.concatenate(features_ref, axis=0)\n",
    "    knn_index1 = faiss.IndexFlatL2(features_ref_i.shape[1])\n",
    "    faiss.normalize_L2(features_ref)\n",
    "    knn_index1.add(features_ref)\n",
    "\n",
    "    # print(f\"Compute patch distances...\", end=\" \") \n",
    "    # Extract test features\n",
    "    image_tensor_test, grid_size2, resize_scale2 = dm.prepare_image(image_test)\n",
    "    features_test = dm.extract_features(image_tensor_test)\n",
    "\n",
    "    faiss.normalize_L2(features_test) \n",
    "    distances, match2to1 = knn_index1.search(features_test, k = 1)\n",
    "    # normalize the distances to [0, 1], now equivalent to cosine distance (1 - cosine similarity)\n",
    "    distances = distances / 2\n",
    "\n",
    "    # print(f\"Masking...\", end=\" \") \n",
    "    # Filter out the relevant patches from test image\n",
    "    if masking:\n",
    "        mask2 = dm.compute_background_mask_from_image(image_test, threshold=10, masking_type=masking)\n",
    "        distances[~mask2] = 0.0\n",
    "    else:\n",
    "        mask2 = np.ones(features_test.shape[0], dtype=bool)\n",
    "\n",
    "    score_top1p = np.mean(sorted(distances, reverse = True)[:int(len(distances) * 0.01)])\n",
    "    distances = distances.reshape(grid_size2)\n",
    "    return score_top1p, distances, mask2"
   ]
  },
  {
   "cell_type": "markdown",
   "metadata": {},
   "source": [
    "# Patch-based Anomaly Detection with AnomalyDINO (Demo)\n",
    "\n",
    "## One-shot AD (classical)\n",
    "1. Extract nominal features from reference sample\n",
    "   - select relevant features by masking (optional, dependent on category, texture or object etc.)\n",
    "   - augment by meaningful augmentations (here: rotation), optional\n",
    "2. Extract features from test sample\n",
    "   - select relevant features by masking, optional\n",
    "3. Compute distances between test patches and closest nominal patch\n",
    "   - anomaly score: max(patch_distances), some high quantile, etc.\n",
    "   - anomaly map: upscale & smooth the patch distances"
   ]
  },
  {
   "cell_type": "code",
   "execution_count": null,
   "metadata": {},
   "outputs": [],
   "source": [
    "# Load DINOv2 model\n",
    "dm = DINOv2(half_precision=False, model_name = \"dinov2_vits14\")"
   ]
  },
  {
   "cell_type": "code",
   "execution_count": null,
   "metadata": {},
   "outputs": [],
   "source": [
    "# Load reference image\n",
    "object_name = \"hazelnut\" # change object/image as you like\n",
    "img_name = \"000.png\"\n",
    "\n",
    "masking = masking_default[object_name]\n",
    "\n",
    "# Load reference image\n",
    "image_ref_path = f\"{mvtec_path}/{object_name}/train/good/{img_name}\"\n",
    "image_ref = cv2.cvtColor(cv2.imread(image_ref_path, cv2.IMREAD_COLOR), cv2.COLOR_BGR2RGB)\n",
    "\n",
    "# Compute features and mask\n",
    "image_tensor1, grid_size1, resize_scale1 = dm.prepare_image(image_ref)\n",
    "features_ref = dm.extract_features(image_tensor1)\n",
    "mask_ref = dm.compute_background_mask(features_ref, grid_size1, threshold=10, masking_type=masking)\n",
    "vis_image_ref = dm.get_embedding_visualization(features_ref, grid_size1)\n",
    "\n",
    "# Visualization: 1 = clean reference image, 2 = PCA-dimensions (top 3) of features, 3 = zero-shot masking (PCA[0] > 10)\n",
    "fig, (ax1, ax2, ax3) = plt.subplots(1, 3, figsize=(15, 5))\n",
    "ax1.imshow(image_ref)\n",
    "ax2.imshow(vis_image_ref)\n",
    "resized_mask = resize_mask_img(mask_ref, image_ref.shape, grid_size1)\n",
    "ax3.imshow(image_ref)\n",
    "# prepare_mask\n",
    "ax3.imshow(resize_mask_img(mask_ref, image_ref.shape, grid_size1), alpha=0.3)\n",
    "# ax3.imshow(dm.prepare_mask(mask_ref, image_ref.shape, grid_size1), alpha=0.3)\n",
    "fig.tight_layout()\n",
    "ax1.axis('off')\n",
    "ax1.set_title(\"Reference Image\")\n",
    "ax2.axis('off')\n",
    "ax2.set_title(\"PCA of Features\")\n",
    "ax3.axis('off')\n",
    "ax3.set_title(\"Zero-shot Masking\")\n",
    "plt.show()"
   ]
  },
  {
   "cell_type": "code",
   "execution_count": null,
   "metadata": {},
   "outputs": [],
   "source": [
    "# Load test image\n",
    "anomaly_type = \"hole\" # \"good\", \"crack\", \"hole\"... (depends on the object/product)\n",
    "test_img_name = \"005.png\"\n",
    "\n",
    "# Load test image from given anomaly type\n",
    "image_test_path = f\"{mvtec_path}/{object_name}/test/{anomaly_type}/{test_img_name}\"\n",
    "\n",
    "image_test = cv2.cvtColor(cv2.imread(image_test_path, cv2.IMREAD_COLOR), cv2.COLOR_BGR2RGB)\n",
    "\n",
    "# Compute features and mask\n",
    "image_tensor2, grid_size2, resize_scale2 = dm.prepare_image(image_test)\n",
    "features_test = dm.extract_features(image_tensor2)\n",
    "mask_test = dm.compute_background_mask(features_test, grid_size2, threshold=10, masking_type=masking)\n",
    "vis_image_test = dm.get_embedding_visualization(features_test, grid_size1)\n",
    "\n",
    "# Visualization: 1 = clean reference image, 2 = PCA-dimensions (top 3) of features, 3 = zero-shot masking (PCA[0] > 10)\n",
    "fig, (ax1, ax2, ax3) = plt.subplots(1, 3, figsize=(15, 5))\n",
    "ax1.imshow(image_test)\n",
    "ax2.imshow(vis_image_test)\n",
    "resized_mask = resize_mask_img(mask_test, image_test.shape, grid_size2)\n",
    "ax3.imshow(image_test)\n",
    "ax3.imshow(resize_mask_img(mask_test, image_test.shape, grid_size2), alpha=0.3)\n",
    "\n",
    "fig.tight_layout()\n",
    "ax1.axis('off')\n",
    "ax1.set_title(\"Test Image\")\n",
    "ax2.axis('off')\n",
    "ax2.set_title(\"PCA of Features\")\n",
    "ax3.axis('off')\n",
    "ax3.set_title(\"Zero-shot Masking\")\n",
    "plt.show()"
   ]
  },
  {
   "cell_type": "markdown",
   "metadata": {},
   "source": [
    "## Score the test image"
   ]
  },
  {
   "cell_type": "code",
   "execution_count": null,
   "metadata": {},
   "outputs": [],
   "source": [
    "anomaly_score, patch_distances, mask_test = score_single_image(image_test, [image_ref], dm, masking = True, rotation = True)\n",
    "print(f\"The predict anomaly score for this sample is \", anomaly_score)"
   ]
  },
  {
   "cell_type": "code",
   "execution_count": null,
   "metadata": {},
   "outputs": [],
   "source": [
    "# plot anomaly map\n",
    "from  matplotlib.colors import LinearSegmentedColormap\n",
    "neon_violet = (0.5, 0.1, 0.5, 0.4)\n",
    "neon_yellow = (0.8, 1.0, 0.02, 0.7)\n",
    "colors = [(1.0, 1, 1.0, 0.0),  neon_violet, neon_yellow]\n",
    "cmap = LinearSegmentedColormap.from_list(\"AnomalyMap\", colors, N=256)\n",
    "\n",
    "plt.figure(figsize=(8, 8))\n",
    "plt.imshow(image_test, alpha=1.0)\n",
    "\n",
    "d = patch_distances.flatten()\n",
    "d = cv2.resize(d.reshape(grid_size1), (image_test.shape[1], image_test.shape[0]), interpolation = cv2.INTER_LINEAR)\n",
    "d = gaussian_filter(d, sigma=4)\n",
    "vmax = 0.5 # vmax may need to be adjusted differently for different objects, for hazelnut 0.5 is a good choice\n",
    "plt.colorbar(plt.imshow(d, alpha=1.0, cmap=cmap, vmax=vmax), orientation='vertical', fraction=0.046, pad=0.04)\n",
    "\n",
    "plt.axis('off')\n",
    "plt.title(f\"Test sample ({object_name}/{anomaly_type}) with anomaly score: {anomaly_score:.3f}\")\n",
    "plt.show()"
   ]
  },
  {
   "cell_type": "code",
   "execution_count": null,
   "metadata": {},
   "outputs": [],
   "source": []
  }
 ],
 "metadata": {
  "kernelspec": {
   "display_name": "Python 3",
   "language": "python",
   "name": "python3"
  },
  "language_info": {
   "codemirror_mode": {
    "name": "ipython",
    "version": 3
   },
   "file_extension": ".py",
   "mimetype": "text/x-python",
   "name": "python",
   "nbconvert_exporter": "python",
   "pygments_lexer": "ipython3",
   "version": "3.9.12"
  }
 },
 "nbformat": 4,
 "nbformat_minor": 2
}
